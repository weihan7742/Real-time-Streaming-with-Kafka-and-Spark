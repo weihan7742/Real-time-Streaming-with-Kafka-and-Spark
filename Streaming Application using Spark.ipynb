{
 "cells": [
  {
   "cell_type": "markdown",
   "id": "5055840b",
   "metadata": {},
   "source": [
    "# Streaming Application using Spark Structured Streaming"
   ]
  },
  {
   "cell_type": "code",
   "execution_count": 1,
   "id": "3ded1018",
   "metadata": {},
   "outputs": [],
   "source": [
    "# Initialize OS environment for Kakfa and Pyspark integration\n",
    "import os\n",
    "os.environ['PYSPARK_SUBMIT_ARGS'] = '--packages org.apache.spark:spark-sql-kafka-0-10_2.12:3.2.1 pyspark-shell'"
   ]
  },
  {
   "cell_type": "code",
   "execution_count": 2,
   "id": "198518fd",
   "metadata": {},
   "outputs": [],
   "source": [
    "# Libraries\n",
    "import sys\n",
    "import time\n",
    "import json\n",
    "from pymongo import MongoClient\n",
    "from pyspark.sql import SparkSession\n",
    "import geohash\n",
    "import datetime as dt\n",
    "import math\n",
    "from pprint import pprint"
   ]
  },
  {
   "cell_type": "code",
   "execution_count": 3,
   "id": "9688a2ee",
   "metadata": {},
   "outputs": [],
   "source": [
    "# Initialize MongoDB database\n",
    "client = MongoClient()\n",
    "db = client.fit3182_assignment_db\n",
    "collection = db.data"
   ]
  },
  {
   "cell_type": "code",
   "execution_count": 4,
   "id": "7b4c025c",
   "metadata": {},
   "outputs": [],
   "source": [
    "# Initialize topic name for Kafka broker\n",
    "topic_name = \"FIT3182_ASSIGNMENT_2\""
   ]
  },
  {
   "cell_type": "code",
   "execution_count": 5,
   "id": "55be792c",
   "metadata": {},
   "outputs": [
    {
     "name": "stderr",
     "output_type": "stream",
     "text": [
      "22/05/25 18:03:00 WARN Utils: Your hostname, han-ThinkPad-E585 resolves to a loopback address: 127.0.1.1; using 192.168.1.2 instead (on interface wlp4s0)\n",
      "22/05/25 18:03:00 WARN Utils: Set SPARK_LOCAL_IP if you need to bind to another address\n",
      "WARNING: An illegal reflective access operation has occurred\n",
      "WARNING: Illegal reflective access by org.apache.spark.unsafe.Platform (file:/home/han/.local/lib/python3.8/site-packages/pyspark/jars/spark-unsafe_2.12-3.2.1.jar) to constructor java.nio.DirectByteBuffer(long,int)\n",
      "WARNING: Please consider reporting this to the maintainers of org.apache.spark.unsafe.Platform\n",
      "WARNING: Use --illegal-access=warn to enable warnings of further illegal reflective access operations\n",
      "WARNING: All illegal access operations will be denied in a future release\n"
     ]
    },
    {
     "name": "stdout",
     "output_type": "stream",
     "text": [
      ":: loading settings :: url = jar:file:/home/han/.local/lib/python3.8/site-packages/pyspark/jars/ivy-2.5.0.jar!/org/apache/ivy/core/settings/ivysettings.xml\n"
     ]
    },
    {
     "name": "stderr",
     "output_type": "stream",
     "text": [
      "Ivy Default Cache set to: /home/han/.ivy2/cache\n",
      "The jars for the packages stored in: /home/han/.ivy2/jars\n",
      "org.apache.spark#spark-sql-kafka-0-10_2.12 added as a dependency\n",
      ":: resolving dependencies :: org.apache.spark#spark-submit-parent-1d89355c-b8d4-44e3-a5d8-168c2dbbf914;1.0\n",
      "\tconfs: [default]\n",
      "\tfound org.apache.spark#spark-sql-kafka-0-10_2.12;3.2.1 in central\n",
      "\tfound org.apache.spark#spark-token-provider-kafka-0-10_2.12;3.2.1 in central\n",
      "\tfound org.apache.kafka#kafka-clients;2.8.0 in central\n",
      "\tfound org.lz4#lz4-java;1.7.1 in central\n",
      "\tfound org.xerial.snappy#snappy-java;1.1.8.4 in central\n",
      "\tfound org.slf4j#slf4j-api;1.7.30 in central\n",
      "\tfound org.apache.hadoop#hadoop-client-runtime;3.3.1 in central\n",
      "\tfound org.spark-project.spark#unused;1.0.0 in central\n",
      "\tfound org.apache.hadoop#hadoop-client-api;3.3.1 in central\n",
      "\tfound org.apache.htrace#htrace-core4;4.1.0-incubating in central\n",
      "\tfound commons-logging#commons-logging;1.1.3 in central\n",
      "\tfound com.google.code.findbugs#jsr305;3.0.0 in central\n",
      "\tfound org.apache.commons#commons-pool2;2.6.2 in central\n",
      ":: resolution report :: resolve 857ms :: artifacts dl 32ms\n",
      "\t:: modules in use:\n",
      "\tcom.google.code.findbugs#jsr305;3.0.0 from central in [default]\n",
      "\tcommons-logging#commons-logging;1.1.3 from central in [default]\n",
      "\torg.apache.commons#commons-pool2;2.6.2 from central in [default]\n",
      "\torg.apache.hadoop#hadoop-client-api;3.3.1 from central in [default]\n",
      "\torg.apache.hadoop#hadoop-client-runtime;3.3.1 from central in [default]\n",
      "\torg.apache.htrace#htrace-core4;4.1.0-incubating from central in [default]\n",
      "\torg.apache.kafka#kafka-clients;2.8.0 from central in [default]\n",
      "\torg.apache.spark#spark-sql-kafka-0-10_2.12;3.2.1 from central in [default]\n",
      "\torg.apache.spark#spark-token-provider-kafka-0-10_2.12;3.2.1 from central in [default]\n",
      "\torg.lz4#lz4-java;1.7.1 from central in [default]\n",
      "\torg.slf4j#slf4j-api;1.7.30 from central in [default]\n",
      "\torg.spark-project.spark#unused;1.0.0 from central in [default]\n",
      "\torg.xerial.snappy#snappy-java;1.1.8.4 from central in [default]\n",
      "\t---------------------------------------------------------------------\n",
      "\t|                  |            modules            ||   artifacts   |\n",
      "\t|       conf       | number| search|dwnlded|evicted|| number|dwnlded|\n",
      "\t---------------------------------------------------------------------\n",
      "\t|      default     |   13  |   0   |   0   |   0   ||   13  |   0   |\n",
      "\t---------------------------------------------------------------------\n",
      ":: retrieving :: org.apache.spark#spark-submit-parent-1d89355c-b8d4-44e3-a5d8-168c2dbbf914\n",
      "\tconfs: [default]\n",
      "\t0 artifacts copied, 13 already retrieved (0kB/18ms)\n",
      "22/05/25 18:03:02 WARN NativeCodeLoader: Unable to load native-hadoop library for your platform... using builtin-java classes where applicable\n",
      "Using Spark's default log4j profile: org/apache/spark/log4j-defaults.properties\n",
      "Setting default log level to \"WARN\".\n",
      "To adjust logging level use sc.setLogLevel(newLevel). For SparkR, use setLogLevel(newLevel).\n"
     ]
    }
   ],
   "source": [
    "# Initialize Spark session\n",
    "spark = (\n",
    "    SparkSession.builder\n",
    "    .master('local[*]')\n",
    "    .appName('[Assignment] Spark Streaming from Kafka into MongoDB')\n",
    "    .getOrCreate()\n",
    ")"
   ]
  },
  {
   "cell_type": "code",
   "execution_count": 6,
   "id": "922ce347",
   "metadata": {},
   "outputs": [],
   "source": [
    "# Initialize DataStreamReader\n",
    "topic_stream_df = (\n",
    "    spark.readStream.format('kafka') # specify source\n",
    "    .option('kafka.bootstrap.servers', 'localhost:9092')\n",
    "    .option('subscribe', topic_name)\n",
    "    .load()\n",
    ")"
   ]
  },
  {
   "cell_type": "code",
   "execution_count": 7,
   "id": "4028e6f3",
   "metadata": {},
   "outputs": [],
   "source": [
    "# Specifiy read format \n",
    "output_stream_df = topic_stream_df.selectExpr(\"CAST(key as STRING)\",\"CAST(value as STRING)\")"
   ]
  },
  {
   "cell_type": "code",
   "execution_count": 8,
   "id": "528ac7c5",
   "metadata": {},
   "outputs": [],
   "source": [
    "# Function to process batches of data\n",
    "def process_data(df,batch_id):\n",
    "    df = df.collect()\n",
    "    lst = [[],[],[]] # Containers to separate data sources\n",
    "    \n",
    "    # Allocate data to respective container\n",
    "    for row in df:\n",
    "        key = int(row[\"key\"]) - 1\n",
    "        value = eval(row[\"value\"])\n",
    "        lst[key].append(value)\n",
    "        \n",
    "    if lst[0]: # Process data only when climate data is received\n",
    "        cl_data = lst[0][0] # 1 batch should only have 1 climate data\n",
    "        temp_date = dt.datetime.strptime(cl_data['date_of_creation'],\"%d/%m/%y\")\n",
    "        cl_date = dt.datetime.strftime(temp_date,\"%Y-%m-%d\") # Transform date to match Part A\n",
    "        \n",
    "        # Initialize climate geohash\n",
    "        cl_geo = geohash.encode(cl_data['latitude'], cl_data['longitude'], precision = 3)        \n",
    "        \n",
    "        # Set station value\n",
    "        cl_data['station'] = cl_geo\n",
    "        \n",
    "        # Initialize hotspot dictionary\n",
    "        hotspot_dict = {}\n",
    "        \n",
    "        # Compare climate with AQUA hotspot\n",
    "        aqua = lst[1]\n",
    "        for data in aqua:\n",
    "            geo_val = geohash.encode(data['latitude'],data['longitude'],precision = 5)\n",
    "                    \n",
    "            # Hotspot is close to climate\n",
    "            if cl_geo == geo_val[:3]: \n",
    "                try:\n",
    "                    hotspot_dict[geo_val].append(data) # Add hotspot to respective group\n",
    "                except KeyError: # List does not exist\n",
    "                    hotspot_dict[geo_val] = [data] \n",
    "                \n",
    "        # Compare climate with TERRA hotspot\n",
    "        terra = lst[2]\n",
    "        for data in terra:\n",
    "            geo_val = geohash.encode(data['latitude'],data['longitude'],precision = 5)\n",
    "            \n",
    "            # Hotspot is close to climate\n",
    "            if cl_geo == geo_val[:3]: \n",
    "                try:\n",
    "                    hotspot_dict[geo_val].append(data) # Add hotspot to respective group\n",
    "                except KeyError: # List does not exist\n",
    "                    hotspot_dict[geo_val] = [data] \n",
    "                \n",
    "        # Drop unnecessary keys and modify key name to match Part A data model\n",
    "        cl_data.pop('date_of_sending')\n",
    "        cl_data.pop('producer')\n",
    "        cl_data.pop('latitude')\n",
    "        cl_data.pop('longitude')\n",
    "        cl_data['date'] = cl_data['date_of_creation']\n",
    "        cl_data.pop('date_of_creation')\n",
    "        \n",
    "        hotspot_list = []\n",
    "        \n",
    "        if len(hotspot_dict.keys()): # Proceed if there is fire\n",
    "            for key in hotspot_dict:\n",
    "                group_lst = hotspot_dict[key]\n",
    "                group_length = len(group_lst)\n",
    "                group_temp = group_lst[0]['surface_temperature_celcius']\n",
    "                group_conf = group_lst[0]['confidence']\n",
    "                \n",
    "                for i in range(1,len(group_lst)):\n",
    "                    data = group_lst[i]\n",
    "                    group_temp += data['surface_temperature_celcius']\n",
    "                    group_conf += data['confidence']\n",
    "                    \n",
    "                # Obtain average values\n",
    "                avg_temp = round(group_temp / group_length,2)\n",
    "                avg_conf = round(group_conf / group_length,2)\n",
    "                \n",
    "                # Create final data to be embedded with climate data\n",
    "                hotspot = group_lst[0] # Use latitude and longitude from first data\n",
    "                hotspot['surface_temperature_celcius'] = avg_temp\n",
    "                hotspot['confidence'] = avg_conf\n",
    "                \n",
    "                # Ensure datetime follows the format stated in Part A\n",
    "                temp_time = dt.datetime.strptime(hotspot['date_of_sending'],\"%d/%m/%y %H:%M:%S\")\n",
    "                hotspot['datetime'] = cl_date + 'T' + dt.datetime.strftime(temp_time,\"%H:%M:%S\")\n",
    "                \n",
    "                # Remove unnecessary columns\n",
    "                hotspot.pop('producer')\n",
    "                hotspot.pop('date_of_sending')\n",
    "                \n",
    "                # Add hotspot to hotspot list\n",
    "                hotspot_list.append(hotspot)\n",
    "                \n",
    "            # Add list of hotspot to climate\n",
    "            cl_data['hotspot'] = hotspot_list\n",
    "            \n",
    "            # Determine the cause of fire event\n",
    "            if cl_data['GHI_w/m2'] > 180 and cl_data['air_temperature_celcius'] > 20:\n",
    "                cl_data['cause_of_fire'] = 'natural'\n",
    "            else:\n",
    "                cl_data['cause_of_fire'] = 'other'\n",
    "                \n",
    "        # Insert into MongoDB collection\n",
    "        collection.insert_one(cl_data)\n",
    "        print(\"Data inserted. \" + str(cl_data))                 "
   ]
  },
  {
   "cell_type": "code",
   "execution_count": 9,
   "id": "b72b97c6",
   "metadata": {},
   "outputs": [],
   "source": [
    "# Create data stream writer\n",
    "db_writer = (\n",
    "    output_stream_df\n",
    "    .writeStream \n",
    "    .outputMode('append')\n",
    "    .foreachBatch(process_data)\n",
    "    .trigger(processingTime=\"10 seconds\") # Process in batches of 10 seconds\n",
    ")"
   ]
  },
  {
   "cell_type": "code",
   "execution_count": null,
   "id": "4d9551cd",
   "metadata": {},
   "outputs": [],
   "source": [
    "# Run streaming\n",
    "try:\n",
    "    query = db_writer.start()\n",
    "    query.awaitTermination()\n",
    "except KeyboardInterrupt:\n",
    "    print('Interrupted by CTRL-C. Stopped query')\n",
    "except StreamingQueryException as exc:\n",
    "    print(exc)\n",
    "finally:\n",
    "    query.stop()"
   ]
  },
  {
   "cell_type": "code",
   "execution_count": null,
   "id": "d2c21f4b",
   "metadata": {},
   "outputs": [],
   "source": []
  }
 ],
 "metadata": {
  "kernelspec": {
   "display_name": "Python 3 (ipykernel)",
   "language": "python",
   "name": "python3"
  },
  "language_info": {
   "codemirror_mode": {
    "name": "ipython",
    "version": 3
   },
   "file_extension": ".py",
   "mimetype": "text/x-python",
   "name": "python",
   "nbconvert_exporter": "python",
   "pygments_lexer": "ipython3",
   "version": "3.8.10"
  }
 },
 "nbformat": 4,
 "nbformat_minor": 5
}
